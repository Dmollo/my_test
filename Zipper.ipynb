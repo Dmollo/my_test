{
 "cells": [
  {
   "cell_type": "code",
   "execution_count": 13,
   "metadata": {
    "collapsed": false
   },
   "outputs": [],
   "source": [
    "import zipfile\n",
    "newZip = zipfile.ZipFile('recipes.zip', 'w')\n",
    "newZip.write('C:\\Users\\Dave\\Documents\\Python Scripts\\Recipes', compress_type=zipfile.ZIP_DEFLATED)\n",
    "newZip.close()"
   ]
  },
  {
   "cell_type": "code",
   "execution_count": 8,
   "metadata": {
    "collapsed": false
   },
   "outputs": [],
   "source": [
    "import zipfile, os\n",
    "##os.chdir('C:\\\\)   ##move ito folder with the zip\n",
    "###I may want to make something that copies it to another folder and does the zip inside that folder\n",
    "unzipped = zipfile.ZipFile('example.zip')\n",
    "unzipped.extractall()\n",
    "unzipped.close()"
   ]
  }
 ],
 "metadata": {
  "anaconda-cloud": {},
  "kernelspec": {
   "display_name": "Python [default]",
   "language": "python",
   "name": "python2"
  },
  "language_info": {
   "codemirror_mode": {
    "name": "ipython",
    "version": 2
   },
   "file_extension": ".py",
   "mimetype": "text/x-python",
   "name": "python",
   "nbconvert_exporter": "python",
   "pygments_lexer": "ipython2",
   "version": "2.7.12"
  }
 },
 "nbformat": 4,
 "nbformat_minor": 1
}
